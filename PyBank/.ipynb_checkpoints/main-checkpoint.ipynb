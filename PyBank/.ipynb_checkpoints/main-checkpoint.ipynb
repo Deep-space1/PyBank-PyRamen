{
 "cells": [
  {
   "cell_type": "code",
   "execution_count": 1,
   "id": "f02d58f8-28d1-4afa-a2ee-bd1054a387a8",
   "metadata": {},
   "outputs": [],
   "source": [
    "# Importing Pandas and Numpy Libraries.\n",
    "\n",
    "import pandas as pd\n",
    "import numpy as np"
   ]
  },
  {
   "cell_type": "code",
   "execution_count": 2,
   "id": "2caa518f-2d5c-4b27-b9f7-7a5a7a6466fc",
   "metadata": {},
   "outputs": [],
   "source": [
    "# Accessing data from budget_data.csv\n",
    "\n",
    "df = pd.read_csv('budget_data.csv')"
   ]
  },
  {
   "cell_type": "code",
   "execution_count": 3,
   "id": "8bb8ecaf-ecce-4676-aa35-7d6a63337073",
   "metadata": {},
   "outputs": [
    {
     "data": {
      "text/html": [
       "<div>\n",
       "<style scoped>\n",
       "    .dataframe tbody tr th:only-of-type {\n",
       "        vertical-align: middle;\n",
       "    }\n",
       "\n",
       "    .dataframe tbody tr th {\n",
       "        vertical-align: top;\n",
       "    }\n",
       "\n",
       "    .dataframe thead th {\n",
       "        text-align: right;\n",
       "    }\n",
       "</style>\n",
       "<table border=\"1\" class=\"dataframe\">\n",
       "  <thead>\n",
       "    <tr style=\"text-align: right;\">\n",
       "      <th></th>\n",
       "      <th>Date</th>\n",
       "      <th>Profit/Losses</th>\n",
       "    </tr>\n",
       "  </thead>\n",
       "  <tbody>\n",
       "    <tr>\n",
       "      <th>0</th>\n",
       "      <td>Jan-2010</td>\n",
       "      <td>867884</td>\n",
       "    </tr>\n",
       "    <tr>\n",
       "      <th>1</th>\n",
       "      <td>Feb-2010</td>\n",
       "      <td>984655</td>\n",
       "    </tr>\n",
       "    <tr>\n",
       "      <th>2</th>\n",
       "      <td>Mar-2010</td>\n",
       "      <td>322013</td>\n",
       "    </tr>\n",
       "    <tr>\n",
       "      <th>3</th>\n",
       "      <td>Apr-2010</td>\n",
       "      <td>-69417</td>\n",
       "    </tr>\n",
       "    <tr>\n",
       "      <th>4</th>\n",
       "      <td>May-2010</td>\n",
       "      <td>310503</td>\n",
       "    </tr>\n",
       "  </tbody>\n",
       "</table>\n",
       "</div>"
      ],
      "text/plain": [
       "       Date  Profit/Losses\n",
       "0  Jan-2010         867884\n",
       "1  Feb-2010         984655\n",
       "2  Mar-2010         322013\n",
       "3  Apr-2010         -69417\n",
       "4  May-2010         310503"
      ]
     },
     "execution_count": 3,
     "metadata": {},
     "output_type": "execute_result"
    }
   ],
   "source": [
    "#Running a quick check!\n",
    "\n",
    "df.head()"
   ]
  },
  {
   "cell_type": "code",
   "execution_count": 4,
   "id": "32ba5252-54e3-40a6-88c4-6111156ad2ee",
   "metadata": {},
   "outputs": [],
   "source": [
    "#Assigning values to variables by collecting data from budget_data.csv\n",
    "\n",
    "profit_List = list(df['Profit/Losses'])\n",
    "profit_date = df['Date']\n",
    "Total_Profit = df['Profit/Losses'].sum()\n",
    "Total_Months = df['Date'].count()\n",
    "Monthly_profit = []\n",
    "\n",
    "# Determining month to month profit/losses by subtracting value A out of Value B\n",
    "\n",
    "for i in range(len(df)-1):\n",
    "    PA = profit_List[i]\n",
    "    PB = profit_List[i+1]\n",
    "    Monthly_profit.append(PB-PA)\n",
    "    \n",
    "# Max, Min and mean functions\n",
    "\n",
    "    min_profit = min(Monthly_profit)\n",
    "    max_profit = max(Monthly_profit)  \n",
    "    average_change = round(np.mean(Monthly_profit), 2)"
   ]
  },
  {
   "cell_type": "code",
   "execution_count": 5,
   "id": "723267eb-5969-478d-910d-cd85c4522c43",
   "metadata": {},
   "outputs": [
    {
     "data": {
      "text/plain": [
       "25"
      ]
     },
     "execution_count": 5,
     "metadata": {},
     "output_type": "execute_result"
    }
   ],
   "source": [
    "# Analysing index number to determine the value.\n",
    "\n",
    "Max_Profit_Index = Monthly_profit.index(max(Monthly_profit)) + 1 \n",
    "Min_Profit_Index = Monthly_profit.index(min(Monthly_profit)) + 1\n",
    "\n",
    "Max_Profit_Index\n"
   ]
  },
  {
   "cell_type": "code",
   "execution_count": 6,
   "id": "4f2fcbc3-a4b6-4f82-84c7-7899b63053d7",
   "metadata": {},
   "outputs": [
    {
     "data": {
      "text/plain": [
       "44"
      ]
     },
     "execution_count": 6,
     "metadata": {},
     "output_type": "execute_result"
    }
   ],
   "source": [
    "Min_Profit_Index"
   ]
  },
  {
   "cell_type": "code",
   "execution_count": 7,
   "id": "4d0fbb22-a888-47a2-83ad-592cdcb6260c",
   "metadata": {},
   "outputs": [],
   "source": [
    "# Replacing index by its value\n",
    "\n",
    "Max_Profit_Date = df.Date[25]\n",
    "Min_Profit_Date = df.Date[44]\n"
   ]
  },
  {
   "cell_type": "code",
   "execution_count": 9,
   "id": "85c3cd5a-da06-4d97-a37d-5217e775087d",
   "metadata": {},
   "outputs": [],
   "source": [
    "# Print Statement and exporting output to .txt file\n",
    "f = open(\"FinacialAnalysis.txt\", \"a\")\n",
    "\n",
    "print(\"Financial Analysis \\n----------------------------------\\n\", file=f)\n",
    "print(\"Your profit is: $\" + str(Total_Profit), file=f)\n",
    "print(\"Total Months: \" + str(Total_Months), file=f)\n",
    "print(\"Average Change: $ \" + str(average_change), file=f)\n",
    "print(\"Greatest Increase in Profits: \" + Max_Profit_Date + \" $\" + str(max_profit), file=f)\n",
    "print(\"Greatest Decrease in Profits: \" + Min_Profit_Date + \" $\" + str(min_profit), file=f)\n",
    "f.close()\n"
   ]
  }
 ],
 "metadata": {
  "kernelspec": {
   "display_name": "Python 3",
   "language": "python",
   "name": "python3"
  },
  "language_info": {
   "codemirror_mode": {
    "name": "ipython",
    "version": 3
   },
   "file_extension": ".py",
   "mimetype": "text/x-python",
   "name": "python",
   "nbconvert_exporter": "python",
   "pygments_lexer": "ipython3",
   "version": "3.8.8"
  }
 },
 "nbformat": 4,
 "nbformat_minor": 5
}
